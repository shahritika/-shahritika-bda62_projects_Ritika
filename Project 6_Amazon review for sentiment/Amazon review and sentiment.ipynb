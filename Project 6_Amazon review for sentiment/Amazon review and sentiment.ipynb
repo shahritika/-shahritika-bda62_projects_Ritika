{
 "cells": [
  {
   "cell_type": "code",
   "execution_count": 1,
   "id": "c2262b51-091b-4f9d-b4ee-66bdd46237f8",
   "metadata": {},
   "outputs": [],
   "source": [
    "# Import Required Libraries\n",
    "import pandas as pd\n",
    "import numpy as np\n",
    "import nltk\n",
    "from sklearn.model_selection import train_test_split\n",
    "from sklearn.feature_extraction.text import TfidfVectorizer\n",
    "from sklearn.linear_model import LogisticRegression\n",
    "from sklearn.metrics import accuracy_score, precision_score, recall_score, f1_score, confusion_matrix\n",
    "import matplotlib.pyplot as plt\n",
    "import seaborn as sns\n",
    "from nltk.corpus import stopwords\n",
    "from nltk.tokenize import word_tokenize"
   ]
  },
  {
   "cell_type": "code",
   "execution_count": 3,
   "id": "05f14db3-a2c9-4d73-adfd-cdc9b8f698a4",
   "metadata": {},
   "outputs": [
    {
     "name": "stderr",
     "output_type": "stream",
     "text": [
      "[nltk_data] Downloading package stopwords to /home/b4c53a70-6689-41bb-\n",
      "[nltk_data]     ba4d-38541b29f65b/nltk_data...\n",
      "[nltk_data]   Package stopwords is already up-to-date!\n",
      "[nltk_data] Downloading package punkt to /home/b4c53a70-6689-41bb-\n",
      "[nltk_data]     ba4d-38541b29f65b/nltk_data...\n",
      "[nltk_data]   Package punkt is already up-to-date!\n"
     ]
    },
    {
     "data": {
      "text/plain": [
       "True"
      ]
     },
     "execution_count": 3,
     "metadata": {},
     "output_type": "execute_result"
    }
   ],
   "source": [
    "import nltk\n",
    "nltk.download('stopwords')      # Stopwords for preprocessing\n",
    "nltk.download('punkt')          # Tokenizer for text processing"
   ]
  },
  {
   "cell_type": "code",
   "execution_count": 5,
   "id": "4b3a5e1a-d8dc-49ff-b85f-9e771393ee87",
   "metadata": {},
   "outputs": [
    {
     "data": {
      "text/html": [
       "<div>\n",
       "<style scoped>\n",
       "    .dataframe tbody tr th:only-of-type {\n",
       "        vertical-align: middle;\n",
       "    }\n",
       "\n",
       "    .dataframe tbody tr th {\n",
       "        vertical-align: top;\n",
       "    }\n",
       "\n",
       "    .dataframe thead th {\n",
       "        text-align: right;\n",
       "    }\n",
       "</style>\n",
       "<table border=\"1\" class=\"dataframe\">\n",
       "  <thead>\n",
       "    <tr style=\"text-align: right;\">\n",
       "      <th></th>\n",
       "      <th>reviewerID</th>\n",
       "      <th>asin</th>\n",
       "      <th>reviewerName</th>\n",
       "      <th>helpful</th>\n",
       "      <th>reviewText</th>\n",
       "      <th>overall</th>\n",
       "      <th>summary</th>\n",
       "      <th>unixReviewTime</th>\n",
       "      <th>reviewTime</th>\n",
       "      <th>day_diff</th>\n",
       "      <th>helpful_yes</th>\n",
       "      <th>total_vote</th>\n",
       "    </tr>\n",
       "  </thead>\n",
       "  <tbody>\n",
       "    <tr>\n",
       "      <th>0</th>\n",
       "      <td>A3SBTW3WS4IQSN</td>\n",
       "      <td>B007WTAJTO</td>\n",
       "      <td>NaN</td>\n",
       "      <td>[0, 0]</td>\n",
       "      <td>No issues.</td>\n",
       "      <td>4.0</td>\n",
       "      <td>Four Stars</td>\n",
       "      <td>1406073600</td>\n",
       "      <td>2014-07-23</td>\n",
       "      <td>138</td>\n",
       "      <td>0</td>\n",
       "      <td>0</td>\n",
       "    </tr>\n",
       "    <tr>\n",
       "      <th>1</th>\n",
       "      <td>A18K1ODH1I2MVB</td>\n",
       "      <td>B007WTAJTO</td>\n",
       "      <td>0mie</td>\n",
       "      <td>[0, 0]</td>\n",
       "      <td>Purchased this for my device, it worked as adv...</td>\n",
       "      <td>5.0</td>\n",
       "      <td>MOAR SPACE!!!</td>\n",
       "      <td>1382659200</td>\n",
       "      <td>2013-10-25</td>\n",
       "      <td>409</td>\n",
       "      <td>0</td>\n",
       "      <td>0</td>\n",
       "    </tr>\n",
       "    <tr>\n",
       "      <th>2</th>\n",
       "      <td>A2FII3I2MBMUIA</td>\n",
       "      <td>B007WTAJTO</td>\n",
       "      <td>1K3</td>\n",
       "      <td>[0, 0]</td>\n",
       "      <td>it works as expected. I should have sprung for...</td>\n",
       "      <td>4.0</td>\n",
       "      <td>nothing to really say....</td>\n",
       "      <td>1356220800</td>\n",
       "      <td>2012-12-23</td>\n",
       "      <td>715</td>\n",
       "      <td>0</td>\n",
       "      <td>0</td>\n",
       "    </tr>\n",
       "    <tr>\n",
       "      <th>3</th>\n",
       "      <td>A3H99DFEG68SR</td>\n",
       "      <td>B007WTAJTO</td>\n",
       "      <td>1m2</td>\n",
       "      <td>[0, 0]</td>\n",
       "      <td>This think has worked out great.Had a diff. br...</td>\n",
       "      <td>5.0</td>\n",
       "      <td>Great buy at this price!!!  *** UPDATE</td>\n",
       "      <td>1384992000</td>\n",
       "      <td>2013-11-21</td>\n",
       "      <td>382</td>\n",
       "      <td>0</td>\n",
       "      <td>0</td>\n",
       "    </tr>\n",
       "    <tr>\n",
       "      <th>4</th>\n",
       "      <td>A375ZM4U047O79</td>\n",
       "      <td>B007WTAJTO</td>\n",
       "      <td>2&amp;amp;1/2Men</td>\n",
       "      <td>[0, 0]</td>\n",
       "      <td>Bought it with Retail Packaging, arrived legit...</td>\n",
       "      <td>5.0</td>\n",
       "      <td>best deal around</td>\n",
       "      <td>1373673600</td>\n",
       "      <td>2013-07-13</td>\n",
       "      <td>513</td>\n",
       "      <td>0</td>\n",
       "      <td>0</td>\n",
       "    </tr>\n",
       "    <tr>\n",
       "      <th>...</th>\n",
       "      <td>...</td>\n",
       "      <td>...</td>\n",
       "      <td>...</td>\n",
       "      <td>...</td>\n",
       "      <td>...</td>\n",
       "      <td>...</td>\n",
       "      <td>...</td>\n",
       "      <td>...</td>\n",
       "      <td>...</td>\n",
       "      <td>...</td>\n",
       "      <td>...</td>\n",
       "      <td>...</td>\n",
       "    </tr>\n",
       "    <tr>\n",
       "      <th>4910</th>\n",
       "      <td>A2LBMKXRM5H2W9</td>\n",
       "      <td>B007WTAJTO</td>\n",
       "      <td>ZM \"J\"</td>\n",
       "      <td>[0, 0]</td>\n",
       "      <td>I bought this Sandisk 16GB Class 10 to use wit...</td>\n",
       "      <td>1.0</td>\n",
       "      <td>Do not waste your money.</td>\n",
       "      <td>1374537600</td>\n",
       "      <td>2013-07-23</td>\n",
       "      <td>503</td>\n",
       "      <td>0</td>\n",
       "      <td>0</td>\n",
       "    </tr>\n",
       "    <tr>\n",
       "      <th>4911</th>\n",
       "      <td>ALGDLRUI1ZPCS</td>\n",
       "      <td>B007WTAJTO</td>\n",
       "      <td>Zo</td>\n",
       "      <td>[0, 0]</td>\n",
       "      <td>Used this for extending the capabilities of my...</td>\n",
       "      <td>5.0</td>\n",
       "      <td>Great item!</td>\n",
       "      <td>1377129600</td>\n",
       "      <td>2013-08-22</td>\n",
       "      <td>473</td>\n",
       "      <td>0</td>\n",
       "      <td>0</td>\n",
       "    </tr>\n",
       "    <tr>\n",
       "      <th>4912</th>\n",
       "      <td>A2MR1NI0ENW2AD</td>\n",
       "      <td>B007WTAJTO</td>\n",
       "      <td>Z S Liske</td>\n",
       "      <td>[0, 0]</td>\n",
       "      <td>Great card that is very fast and reliable. It ...</td>\n",
       "      <td>5.0</td>\n",
       "      <td>Fast and reliable memory card</td>\n",
       "      <td>1396224000</td>\n",
       "      <td>2014-03-31</td>\n",
       "      <td>252</td>\n",
       "      <td>0</td>\n",
       "      <td>0</td>\n",
       "    </tr>\n",
       "    <tr>\n",
       "      <th>4913</th>\n",
       "      <td>A37E6P3DSO9QJD</td>\n",
       "      <td>B007WTAJTO</td>\n",
       "      <td>Z Taylor</td>\n",
       "      <td>[0, 0]</td>\n",
       "      <td>Good amount of space for the stuff I want to d...</td>\n",
       "      <td>5.0</td>\n",
       "      <td>Great little card</td>\n",
       "      <td>1379289600</td>\n",
       "      <td>2013-09-16</td>\n",
       "      <td>448</td>\n",
       "      <td>0</td>\n",
       "      <td>0</td>\n",
       "    </tr>\n",
       "    <tr>\n",
       "      <th>4914</th>\n",
       "      <td>A8KGFTFQ86IBR</td>\n",
       "      <td>B007WTAJTO</td>\n",
       "      <td>Zza</td>\n",
       "      <td>[0, 0]</td>\n",
       "      <td>I've heard bad things about this 64gb Micro SD...</td>\n",
       "      <td>5.0</td>\n",
       "      <td>So far so good.</td>\n",
       "      <td>1388620800</td>\n",
       "      <td>2014-02-01</td>\n",
       "      <td>310</td>\n",
       "      <td>0</td>\n",
       "      <td>0</td>\n",
       "    </tr>\n",
       "  </tbody>\n",
       "</table>\n",
       "<p>4915 rows × 12 columns</p>\n",
       "</div>"
      ],
      "text/plain": [
       "          reviewerID        asin  reviewerName helpful  \\\n",
       "0     A3SBTW3WS4IQSN  B007WTAJTO           NaN  [0, 0]   \n",
       "1     A18K1ODH1I2MVB  B007WTAJTO          0mie  [0, 0]   \n",
       "2     A2FII3I2MBMUIA  B007WTAJTO           1K3  [0, 0]   \n",
       "3      A3H99DFEG68SR  B007WTAJTO           1m2  [0, 0]   \n",
       "4     A375ZM4U047O79  B007WTAJTO  2&amp;1/2Men  [0, 0]   \n",
       "...              ...         ...           ...     ...   \n",
       "4910  A2LBMKXRM5H2W9  B007WTAJTO        ZM \"J\"  [0, 0]   \n",
       "4911   ALGDLRUI1ZPCS  B007WTAJTO            Zo  [0, 0]   \n",
       "4912  A2MR1NI0ENW2AD  B007WTAJTO     Z S Liske  [0, 0]   \n",
       "4913  A37E6P3DSO9QJD  B007WTAJTO      Z Taylor  [0, 0]   \n",
       "4914   A8KGFTFQ86IBR  B007WTAJTO           Zza  [0, 0]   \n",
       "\n",
       "                                             reviewText  overall  \\\n",
       "0                                            No issues.      4.0   \n",
       "1     Purchased this for my device, it worked as adv...      5.0   \n",
       "2     it works as expected. I should have sprung for...      4.0   \n",
       "3     This think has worked out great.Had a diff. br...      5.0   \n",
       "4     Bought it with Retail Packaging, arrived legit...      5.0   \n",
       "...                                                 ...      ...   \n",
       "4910  I bought this Sandisk 16GB Class 10 to use wit...      1.0   \n",
       "4911  Used this for extending the capabilities of my...      5.0   \n",
       "4912  Great card that is very fast and reliable. It ...      5.0   \n",
       "4913  Good amount of space for the stuff I want to d...      5.0   \n",
       "4914  I've heard bad things about this 64gb Micro SD...      5.0   \n",
       "\n",
       "                                     summary  unixReviewTime  reviewTime  \\\n",
       "0                                 Four Stars      1406073600  2014-07-23   \n",
       "1                              MOAR SPACE!!!      1382659200  2013-10-25   \n",
       "2                  nothing to really say....      1356220800  2012-12-23   \n",
       "3     Great buy at this price!!!  *** UPDATE      1384992000  2013-11-21   \n",
       "4                           best deal around      1373673600  2013-07-13   \n",
       "...                                      ...             ...         ...   \n",
       "4910                Do not waste your money.      1374537600  2013-07-23   \n",
       "4911                             Great item!      1377129600  2013-08-22   \n",
       "4912           Fast and reliable memory card      1396224000  2014-03-31   \n",
       "4913                       Great little card      1379289600  2013-09-16   \n",
       "4914                         So far so good.      1388620800  2014-02-01   \n",
       "\n",
       "      day_diff  helpful_yes  total_vote  \n",
       "0          138            0           0  \n",
       "1          409            0           0  \n",
       "2          715            0           0  \n",
       "3          382            0           0  \n",
       "4          513            0           0  \n",
       "...        ...          ...         ...  \n",
       "4910       503            0           0  \n",
       "4911       473            0           0  \n",
       "4912       252            0           0  \n",
       "4913       448            0           0  \n",
       "4914       310            0           0  \n",
       "\n",
       "[4915 rows x 12 columns]"
      ]
     },
     "execution_count": 5,
     "metadata": {},
     "output_type": "execute_result"
    }
   ],
   "source": [
    "3.#loading the csv file dataset\n",
    "data = pd.read_csv(\"amazon_reviews.csv\")\n",
    "data"
   ]
  },
  {
   "cell_type": "code",
   "execution_count": 9,
   "id": "a920f5aa-e3d5-4efd-9621-a32f8fca54a9",
   "metadata": {},
   "outputs": [
    {
     "data": {
      "text/plain": [
       "<bound method NDFrame.head of           reviewerID        asin  reviewerName helpful  \\\n",
       "0     A3SBTW3WS4IQSN  B007WTAJTO           NaN  [0, 0]   \n",
       "1     A18K1ODH1I2MVB  B007WTAJTO          0mie  [0, 0]   \n",
       "2     A2FII3I2MBMUIA  B007WTAJTO           1K3  [0, 0]   \n",
       "3      A3H99DFEG68SR  B007WTAJTO           1m2  [0, 0]   \n",
       "4     A375ZM4U047O79  B007WTAJTO  2&amp;1/2Men  [0, 0]   \n",
       "...              ...         ...           ...     ...   \n",
       "4910  A2LBMKXRM5H2W9  B007WTAJTO        ZM \"J\"  [0, 0]   \n",
       "4911   ALGDLRUI1ZPCS  B007WTAJTO            Zo  [0, 0]   \n",
       "4912  A2MR1NI0ENW2AD  B007WTAJTO     Z S Liske  [0, 0]   \n",
       "4913  A37E6P3DSO9QJD  B007WTAJTO      Z Taylor  [0, 0]   \n",
       "4914   A8KGFTFQ86IBR  B007WTAJTO           Zza  [0, 0]   \n",
       "\n",
       "                                             reviewText  overall  \\\n",
       "0                                            No issues.      4.0   \n",
       "1     Purchased this for my device, it worked as adv...      5.0   \n",
       "2     it works as expected. I should have sprung for...      4.0   \n",
       "3     This think has worked out great.Had a diff. br...      5.0   \n",
       "4     Bought it with Retail Packaging, arrived legit...      5.0   \n",
       "...                                                 ...      ...   \n",
       "4910  I bought this Sandisk 16GB Class 10 to use wit...      1.0   \n",
       "4911  Used this for extending the capabilities of my...      5.0   \n",
       "4912  Great card that is very fast and reliable. It ...      5.0   \n",
       "4913  Good amount of space for the stuff I want to d...      5.0   \n",
       "4914  I've heard bad things about this 64gb Micro SD...      5.0   \n",
       "\n",
       "                                     summary  unixReviewTime  reviewTime  \\\n",
       "0                                 Four Stars      1406073600  2014-07-23   \n",
       "1                              MOAR SPACE!!!      1382659200  2013-10-25   \n",
       "2                  nothing to really say....      1356220800  2012-12-23   \n",
       "3     Great buy at this price!!!  *** UPDATE      1384992000  2013-11-21   \n",
       "4                           best deal around      1373673600  2013-07-13   \n",
       "...                                      ...             ...         ...   \n",
       "4910                Do not waste your money.      1374537600  2013-07-23   \n",
       "4911                             Great item!      1377129600  2013-08-22   \n",
       "4912           Fast and reliable memory card      1396224000  2014-03-31   \n",
       "4913                       Great little card      1379289600  2013-09-16   \n",
       "4914                         So far so good.      1388620800  2014-02-01   \n",
       "\n",
       "      day_diff  helpful_yes  total_vote  \n",
       "0          138            0           0  \n",
       "1          409            0           0  \n",
       "2          715            0           0  \n",
       "3          382            0           0  \n",
       "4          513            0           0  \n",
       "...        ...          ...         ...  \n",
       "4910       503            0           0  \n",
       "4911       473            0           0  \n",
       "4912       252            0           0  \n",
       "4913       448            0           0  \n",
       "4914       310            0           0  \n",
       "\n",
       "[4915 rows x 12 columns]>"
      ]
     },
     "execution_count": 9,
     "metadata": {},
     "output_type": "execute_result"
    }
   ],
   "source": [
    "data.head"
   ]
  },
  {
   "cell_type": "code",
   "execution_count": null,
   "id": "93c16189-df89-4b5f-93ee-7f5e7031d017",
   "metadata": {},
   "outputs": [],
   "source": []
  },
  {
   "cell_type": "code",
   "execution_count": 17,
   "id": "4a3485b7-0066-4cbd-b20e-0f71f1984f02",
   "metadata": {},
   "outputs": [],
   "source": [
    "4. #Data Cleaning\n",
    "data.drop_duplicates(inplace=True)\n",
    "data.dropna(subset=['reviewText', 'overall'], inplace=True)"
   ]
  },
  {
   "cell_type": "code",
   "execution_count": 21,
   "id": "6d09c7fb-3704-487a-afe6-7c1b8bdd8ae7",
   "metadata": {},
   "outputs": [],
   "source": [
    " 5. #Preprocessing\n",
    "def preprocess_text(text):\n",
    "    tokens = word_tokenize(text.lower())  # Tokenize and lowercase\n",
    "    stop_words = set(stopwords.words('english'))\n",
    "    filtered_tokens = [word for word in tokens if word.isalpha() and word not in stop_words]\n",
    "    return ' '.join(filtered_tokens)"
   ]
  },
  {
   "cell_type": "code",
   "execution_count": 23,
   "id": "46150b11-32ff-485c-8b87-03d8798275f1",
   "metadata": {},
   "outputs": [],
   "source": [
    "# Ensure the 'reviews.text' column exists\n",
    "data = data.rename(columns=lambda x: x.strip())  # Strip column names to avoid leading/trailing spaces\n",
    "if 'reviewText' in data.columns:\n",
    "    data['cleaned_review'] = data['reviewText'].apply(preprocess_text)  # Update 'reviews.text' to your column name\n",
    "else:\n",
    "    raise ValueError(\"Column 'reviewText' is missing in the dataset.\")"
   ]
  },
  {
   "cell_type": "code",
   "execution_count": 29,
   "id": "519fab34-3a87-464a-b00d-31fb5d6ea18a",
   "metadata": {},
   "outputs": [],
   "source": [
    "# 6. Label Sentiment\n",
    "# Assume rating column has values from 1-5, where 1-2 = Negative, 3 = Neutral, 4-5 = Positive\n",
    "def label_sentiment(rating):\n",
    "    if rating <= 2:\n",
    "        return 'Negative'\n",
    "    elif rating == 3:\n",
    "        return 'Neutral'\n",
    "    else:\n",
    "        return 'Positive'\n",
    "\n",
    "if 'overall' in data.columns:\n",
    "    data['sentiment'] = data['overall'].apply(label_sentiment)\n",
    "else:\n",
    "    raise ValueError(\"Column 'overall' is missing in the dataset.\")"
   ]
  },
  {
   "cell_type": "code",
   "execution_count": 31,
   "id": "3409544d-2d71-4061-94fe-f16e2dc75c85",
   "metadata": {},
   "outputs": [],
   "source": [
    "# 7. Convert Text to Numerical Features\n",
    "if not data['cleaned_review'].str.strip().replace('', pd.NA).isna().all():\n",
    "    vectorizer = TfidfVectorizer(max_features=5000)\n",
    "    X = vectorizer.fit_transform(data['cleaned_review']).toarray()\n",
    "    y = data['sentiment']\n",
    "else:\n",
    "    raise ValueError(\"Cleaned reviews result in an empty vocabulary. Ensure valid data is present.\")"
   ]
  },
  {
   "cell_type": "code",
   "execution_count": 33,
   "id": "7faf7865-33fa-4ad3-9e3f-12e324097411",
   "metadata": {},
   "outputs": [],
   "source": [
    "# 8. Split Dataset\n",
    "X_train, X_test, y_train, y_test = train_test_split(X, y, test_size=0.2, random_state=42)"
   ]
  },
  {
   "cell_type": "code",
   "execution_count": 35,
   "id": "576ac09b-070d-4887-a5e2-14e65be805e2",
   "metadata": {},
   "outputs": [
    {
     "data": {
      "text/html": [
       "<style>#sk-container-id-1 {color: black;}#sk-container-id-1 pre{padding: 0;}#sk-container-id-1 div.sk-toggleable {background-color: white;}#sk-container-id-1 label.sk-toggleable__label {cursor: pointer;display: block;width: 100%;margin-bottom: 0;padding: 0.3em;box-sizing: border-box;text-align: center;}#sk-container-id-1 label.sk-toggleable__label-arrow:before {content: \"▸\";float: left;margin-right: 0.25em;color: #696969;}#sk-container-id-1 label.sk-toggleable__label-arrow:hover:before {color: black;}#sk-container-id-1 div.sk-estimator:hover label.sk-toggleable__label-arrow:before {color: black;}#sk-container-id-1 div.sk-toggleable__content {max-height: 0;max-width: 0;overflow: hidden;text-align: left;background-color: #f0f8ff;}#sk-container-id-1 div.sk-toggleable__content pre {margin: 0.2em;color: black;border-radius: 0.25em;background-color: #f0f8ff;}#sk-container-id-1 input.sk-toggleable__control:checked~div.sk-toggleable__content {max-height: 200px;max-width: 100%;overflow: auto;}#sk-container-id-1 input.sk-toggleable__control:checked~label.sk-toggleable__label-arrow:before {content: \"▾\";}#sk-container-id-1 div.sk-estimator input.sk-toggleable__control:checked~label.sk-toggleable__label {background-color: #d4ebff;}#sk-container-id-1 div.sk-label input.sk-toggleable__control:checked~label.sk-toggleable__label {background-color: #d4ebff;}#sk-container-id-1 input.sk-hidden--visually {border: 0;clip: rect(1px 1px 1px 1px);clip: rect(1px, 1px, 1px, 1px);height: 1px;margin: -1px;overflow: hidden;padding: 0;position: absolute;width: 1px;}#sk-container-id-1 div.sk-estimator {font-family: monospace;background-color: #f0f8ff;border: 1px dotted black;border-radius: 0.25em;box-sizing: border-box;margin-bottom: 0.5em;}#sk-container-id-1 div.sk-estimator:hover {background-color: #d4ebff;}#sk-container-id-1 div.sk-parallel-item::after {content: \"\";width: 100%;border-bottom: 1px solid gray;flex-grow: 1;}#sk-container-id-1 div.sk-label:hover label.sk-toggleable__label {background-color: #d4ebff;}#sk-container-id-1 div.sk-serial::before {content: \"\";position: absolute;border-left: 1px solid gray;box-sizing: border-box;top: 0;bottom: 0;left: 50%;z-index: 0;}#sk-container-id-1 div.sk-serial {display: flex;flex-direction: column;align-items: center;background-color: white;padding-right: 0.2em;padding-left: 0.2em;position: relative;}#sk-container-id-1 div.sk-item {position: relative;z-index: 1;}#sk-container-id-1 div.sk-parallel {display: flex;align-items: stretch;justify-content: center;background-color: white;position: relative;}#sk-container-id-1 div.sk-item::before, #sk-container-id-1 div.sk-parallel-item::before {content: \"\";position: absolute;border-left: 1px solid gray;box-sizing: border-box;top: 0;bottom: 0;left: 50%;z-index: -1;}#sk-container-id-1 div.sk-parallel-item {display: flex;flex-direction: column;z-index: 1;position: relative;background-color: white;}#sk-container-id-1 div.sk-parallel-item:first-child::after {align-self: flex-end;width: 50%;}#sk-container-id-1 div.sk-parallel-item:last-child::after {align-self: flex-start;width: 50%;}#sk-container-id-1 div.sk-parallel-item:only-child::after {width: 0;}#sk-container-id-1 div.sk-dashed-wrapped {border: 1px dashed gray;margin: 0 0.4em 0.5em 0.4em;box-sizing: border-box;padding-bottom: 0.4em;background-color: white;}#sk-container-id-1 div.sk-label label {font-family: monospace;font-weight: bold;display: inline-block;line-height: 1.2em;}#sk-container-id-1 div.sk-label-container {text-align: center;}#sk-container-id-1 div.sk-container {/* jupyter's `normalize.less` sets `[hidden] { display: none; }` but bootstrap.min.css set `[hidden] { display: none !important; }` so we also need the `!important` here to be able to override the default hidden behavior on the sphinx rendered scikit-learn.org. See: https://github.com/scikit-learn/scikit-learn/issues/21755 */display: inline-block !important;position: relative;}#sk-container-id-1 div.sk-text-repr-fallback {display: none;}</style><div id=\"sk-container-id-1\" class=\"sk-top-container\"><div class=\"sk-text-repr-fallback\"><pre>LogisticRegression(max_iter=1000)</pre><b>In a Jupyter environment, please rerun this cell to show the HTML representation or trust the notebook. <br />On GitHub, the HTML representation is unable to render, please try loading this page with nbviewer.org.</b></div><div class=\"sk-container\" hidden><div class=\"sk-item\"><div class=\"sk-estimator sk-toggleable\"><input class=\"sk-toggleable__control sk-hidden--visually\" id=\"sk-estimator-id-1\" type=\"checkbox\" checked><label for=\"sk-estimator-id-1\" class=\"sk-toggleable__label sk-toggleable__label-arrow\">LogisticRegression</label><div class=\"sk-toggleable__content\"><pre>LogisticRegression(max_iter=1000)</pre></div></div></div></div></div>"
      ],
      "text/plain": [
       "LogisticRegression(max_iter=1000)"
      ]
     },
     "execution_count": 35,
     "metadata": {},
     "output_type": "execute_result"
    }
   ],
   "source": [
    "# 9. Train Classifier\n",
    "model = LogisticRegression(max_iter=1000)\n",
    "model.fit(X_train, y_train)"
   ]
  },
  {
   "cell_type": "code",
   "execution_count": 37,
   "id": "4926d279-c5d4-4a50-b796-cc54a13c4c81",
   "metadata": {},
   "outputs": [
    {
     "name": "stderr",
     "output_type": "stream",
     "text": [
      "/opt/conda/envs/anaconda-2024.02-py310/lib/python3.10/site-packages/sklearn/metrics/_classification.py:1469: UndefinedMetricWarning: Precision is ill-defined and being set to 0.0 in labels with no predicted samples. Use `zero_division` parameter to control this behavior.\n",
      "  _warn_prf(average, modifier, msg_start, len(result))\n"
     ]
    }
   ],
   "source": [
    "# 10. Evaluate Model\n",
    "y_pred = model.predict(X_test)\n",
    "accuracy = accuracy_score(y_test, y_pred)\n",
    "precision = precision_score(y_test, y_pred, average='weighted')\n",
    "recall = recall_score(y_test, y_pred, average='weighted')\n",
    "f1 = f1_score(y_test, y_pred, average='weighted')\n",
    "conf_matrix = confusion_matrix(y_test, y_pred, labels=['Positive', 'Neutral', 'Negative'])"
   ]
  },
  {
   "cell_type": "code",
   "execution_count": 39,
   "id": "bcee2563-61f0-4d52-bf52-fa6b4026c2de",
   "metadata": {},
   "outputs": [
    {
     "name": "stdout",
     "output_type": "stream",
     "text": [
      "Accuracy: 0.930824008138352\n",
      "Precision: 0.8980788222326523\n",
      "Recall: 0.930824008138352\n",
      "F1-Score: 0.9086704518222716\n"
     ]
    }
   ],
   "source": [
    "print(f\"Accuracy: {accuracy}\")\n",
    "print(f\"Precision: {precision}\")\n",
    "print(f\"Recall: {recall}\")\n",
    "print(f\"F1-Score: {f1}\")"
   ]
  },
  {
   "cell_type": "code",
   "execution_count": 41,
   "id": "d1eacd73-430e-41fd-989f-e08810d86b2d",
   "metadata": {},
   "outputs": [
    {
     "data": {
      "image/png": "[encoded data removed]",
      "text/plain": [
       "<Figure size 800x600 with 2 Axes>"
      ]
     },
     "metadata": {},
     "output_type": "display_data"
    }
   ],
   "source": [
    "# 11. Visualize Results\n",
    "plt.figure(figsize=(8, 6))\n",
    "sns.heatmap(conf_matrix, annot=True, fmt='d', cmap='Blues', xticklabels=['Positive', 'Neutral', 'Negative'], yticklabels=['Positive', 'Neutral', 'Negative'])\n",
    "plt.xlabel('Predicted')\n",
    "plt.ylabel('Actual')\n",
    "plt.title('Confusion Matrix')\n",
    "plt.show()"
   ]
  },
  {
   "cell_type": "code",
   "execution_count": 43,
   "id": "93c9d736-a9ac-4851-b3da-ca8d0884bdf8",
   "metadata": {},
   "outputs": [
    {
     "name": "stdout",
     "output_type": "stream",
     "text": [
      "Column 'Sentiment' does not exist.\n"
     ]
    }
   ],
   "source": [
    "# Sentiment distribution\n",
    "if 'Sentiment' in data.columns:\n",
    "    sentiment_counts = data['Sentiment'].value_counts()\n",
    "    plt.figure(figsize=(6, 4))\n",
    "    sentiment_counts.plot(kind='bar', color=['green', 'blue', 'red'])\n",
    "    plt.title('Sentiment Distribution')\n",
    "    plt.xlabel('Sentiment')\n",
    "    plt.ylabel('Count')\n",
    "    plt.show()\n",
    "else:\n",
    "    print(\"Column 'Sentiment' does not exist.\")"
   ]
  },
  {
   "cell_type": "code",
   "execution_count": 47,
   "id": "b5d0b561-e139-482a-8625-d04020f3332c",
   "metadata": {},
   "outputs": [],
   "source": [
    "14.# Save Results\n",
    "data[['reviewText', 'cleaned_review', 'sentiment']].to_csv('processed_reviews.csv', index=False)"
   ]
  },
  {
   "cell_type": "code",
   "execution_count": null,
   "id": "f3f5ecab-3d17-4a2d-b777-2586851bfbaa",
   "metadata": {},
   "outputs": [],
   "source": []
  }
 ],
 "metadata": {
  "kernelspec": {
   "display_name": "anaconda-2024.02-py310",
   "language": "python",
   "name": "conda-env-anaconda-2024.02-py310-py"
  },
  "language_info": {
   "codemirror_mode": {
    "name": "ipython",
    "version": 3
   },
   "file_extension": ".py",
   "mimetype": "text/x-python",
   "name": "python",
   "nbconvert_exporter": "python",
   "pygments_lexer": "ipython3",
   "version": "3.10.14"
  }
 },
 "nbformat": 4,
 "nbformat_minor": 5
}
