{
 "cells": [
  {
   "cell_type": "code",
   "execution_count": 1,
   "id": "4a608470-0b52-423b-a7e5-e2236c6cd846",
   "metadata": {},
   "outputs": [],
   "source": [
    "# Step 1: Import Required Libraries\n",
    "import pandas as pd\n",
    "import numpy as np\n",
    "import matplotlib.pyplot as plt\n",
    "import seaborn as sns\n",
    "from sklearn.model_selection import train_test_split\n",
    "from sklearn.linear_model import LinearRegression\n",
    "from sklearn.metrics import mean_squared_error, mean_absolute_error, r2_score\n",
    "from sklearn.model_selection import GridSearchCV"
   ]
  },
  {
   "cell_type": "code",
   "execution_count": 5,
   "id": "a2b7d16c-0bb6-4dda-9490-113a6f07aa70",
   "metadata": {},
   "outputs": [],
   "source": [
    "# Step 2: Loading the california Housing dataset\n",
    "file_path=r'housing.csv'\n",
    "df=pd.read_csv(file_path)"
   ]
  },
  {
   "cell_type": "code",
   "execution_count": 7,
   "id": "339ccb74-3bef-4ab2-8d3d-ca1d9f8aceb4",
   "metadata": {},
   "outputs": [
    {
     "name": "stdout",
     "output_type": "stream",
     "text": [
      "<class 'pandas.core.frame.DataFrame'>\n",
      "RangeIndex: 20640 entries, 0 to 20639\n",
      "Data columns (total 10 columns):\n",
      " #   Column              Non-Null Count  Dtype  \n",
      "---  ------              --------------  -----  \n",
      " 0   longitude           20640 non-null  float64\n",
      " 1   latitude            20640 non-null  float64\n",
      " 2   housing_median_age  20640 non-null  float64\n",
      " 3   total_rooms         20640 non-null  float64\n",
      " 4   total_bedrooms      20433 non-null  float64\n",
      " 5   population          20640 non-null  float64\n",
      " 6   households          20640 non-null  float64\n",
      " 7   median_income       20640 non-null  float64\n",
      " 8   median_house_value  20640 non-null  float64\n",
      " 9   ocean_proximity     20640 non-null  object \n",
      "dtypes: float64(9), object(1)\n",
      "memory usage: 1.6+ MB\n"
     ]
    },
    {
     "data": {
      "text/plain": [
       "(   longitude  latitude  housing_median_age  total_rooms  total_bedrooms  \\\n",
       " 0    -122.23     37.88                41.0        880.0           129.0   \n",
       " 1    -122.22     37.86                21.0       7099.0          1106.0   \n",
       " 2    -122.24     37.85                52.0       1467.0           190.0   \n",
       " 3    -122.25     37.85                52.0       1274.0           235.0   \n",
       " 4    -122.25     37.85                52.0       1627.0           280.0   \n",
       " \n",
       "    population  households  median_income  median_house_value ocean_proximity  \n",
       " 0       322.0       126.0         8.3252            452600.0        NEAR BAY  \n",
       " 1      2401.0      1138.0         8.3014            358500.0        NEAR BAY  \n",
       " 2       496.0       177.0         7.2574            352100.0        NEAR BAY  \n",
       " 3       558.0       219.0         5.6431            341300.0        NEAR BAY  \n",
       " 4       565.0       259.0         3.8462            342200.0        NEAR BAY  ,\n",
       " None,\n",
       "           longitude      latitude  housing_median_age   total_rooms  \\\n",
       " count  20640.000000  20640.000000        20640.000000  20640.000000   \n",
       " mean    -119.569704     35.631861           28.639486   2635.763081   \n",
       " std        2.003532      2.135952           12.585558   2181.615252   \n",
       " min     -124.350000     32.540000            1.000000      2.000000   \n",
       " 25%     -121.800000     33.930000           18.000000   1447.750000   \n",
       " 50%     -118.490000     34.260000           29.000000   2127.000000   \n",
       " 75%     -118.010000     37.710000           37.000000   3148.000000   \n",
       " max     -114.310000     41.950000           52.000000  39320.000000   \n",
       " \n",
       "        total_bedrooms    population    households  median_income  \\\n",
       " count    20433.000000  20640.000000  20640.000000   20640.000000   \n",
       " mean       537.870553   1425.476744    499.539680       3.870671   \n",
       " std        421.385070   1132.462122    382.329753       1.899822   \n",
       " min          1.000000      3.000000      1.000000       0.499900   \n",
       " 25%        296.000000    787.000000    280.000000       2.563400   \n",
       " 50%        435.000000   1166.000000    409.000000       3.534800   \n",
       " 75%        647.000000   1725.000000    605.000000       4.743250   \n",
       " max       6445.000000  35682.000000   6082.000000      15.000100   \n",
       " \n",
       "        median_house_value  \n",
       " count        20640.000000  \n",
       " mean        206855.816909  \n",
       " std         115395.615874  \n",
       " min          14999.000000  \n",
       " 25%         119600.000000  \n",
       " 50%         179700.000000  \n",
       " 75%         264725.000000  \n",
       " max         500001.000000  )"
      ]
     },
     "execution_count": 7,
     "metadata": {},
     "output_type": "execute_result"
    }
   ],
   "source": [
    "# Display the first few rows and basic information about the dataset\n",
    "df.head(), df.info(), df.describe()"
   ]
  },
  {
   "cell_type": "code",
   "execution_count": 9,
   "id": "b1e29fb9-0d06-4042-8799-236b61abd684",
   "metadata": {},
   "outputs": [
    {
     "name": "stdout",
     "output_type": "stream",
     "text": [
      "<class 'pandas.core.frame.DataFrame'>\n",
      "RangeIndex: 20640 entries, 0 to 20639\n",
      "Data columns (total 13 columns):\n",
      " #   Column                      Non-Null Count  Dtype  \n",
      "---  ------                      --------------  -----  \n",
      " 0   longitude                   20640 non-null  float64\n",
      " 1   latitude                    20640 non-null  float64\n",
      " 2   housing_median_age          20640 non-null  float64\n",
      " 3   total_rooms                 20640 non-null  float64\n",
      " 4   total_bedrooms              20640 non-null  float64\n",
      " 5   population                  20640 non-null  float64\n",
      " 6   households                  20640 non-null  float64\n",
      " 7   median_income               20640 non-null  float64\n",
      " 8   median_house_value          20640 non-null  float64\n",
      " 9   ocean_proximity_INLAND      20640 non-null  bool   \n",
      " 10  ocean_proximity_ISLAND      20640 non-null  bool   \n",
      " 11  ocean_proximity_NEAR BAY    20640 non-null  bool   \n",
      " 12  ocean_proximity_NEAR OCEAN  20640 non-null  bool   \n",
      "dtypes: bool(4), float64(9)\n",
      "memory usage: 1.5 MB\n"
     ]
    },
    {
     "data": {
      "text/plain": [
       "(207,\n",
       " None,\n",
       "    longitude  latitude  housing_median_age  total_rooms  total_bedrooms  \\\n",
       " 0    -122.23     37.88                41.0        880.0           129.0   \n",
       " 1    -122.22     37.86                21.0       7099.0          1106.0   \n",
       " 2    -122.24     37.85                52.0       1467.0           190.0   \n",
       " 3    -122.25     37.85                52.0       1274.0           235.0   \n",
       " 4    -122.25     37.85                52.0       1627.0           280.0   \n",
       " \n",
       "    population  households  median_income  median_house_value  \\\n",
       " 0       322.0       126.0         8.3252            452600.0   \n",
       " 1      2401.0      1138.0         8.3014            358500.0   \n",
       " 2       496.0       177.0         7.2574            352100.0   \n",
       " 3       558.0       219.0         5.6431            341300.0   \n",
       " 4       565.0       259.0         3.8462            342200.0   \n",
       " \n",
       "    ocean_proximity_INLAND  ocean_proximity_ISLAND  ocean_proximity_NEAR BAY  \\\n",
       " 0                   False                   False                      True   \n",
       " 1                   False                   False                      True   \n",
       " 2                   False                   False                      True   \n",
       " 3                   False                   False                      True   \n",
       " 4                   False                   False                      True   \n",
       " \n",
       "    ocean_proximity_NEAR OCEAN  \n",
       " 0                       False  \n",
       " 1                       False  \n",
       " 2                       False  \n",
       " 3                       False  \n",
       " 4                       False  )"
      ]
     },
     "execution_count": 9,
     "metadata": {},
     "output_type": "execute_result"
    }
   ],
   "source": [
    "# Step 3: Data Preprocessing\n",
    "# Check the distribution of missing values in 'total_bedrooms'\n",
    "missing_bedrooms = df['total_bedrooms'].isnull().sum()\n",
    " \n",
    "# Handle missing values by imputing the median\n",
    "df['total_bedrooms'] = df['total_bedrooms'].fillna(df['total_bedrooms'].median())\n",
    "\n",
    "# Convert the 'ocean_proximity' categorical variable to numerical using one-hot encoding\n",
    "df = pd.get_dummies(df, columns=['ocean_proximity'], drop_first=True)\n",
    " \n",
    "# Verify the changes\n",
    "missing_bedrooms, df.info(), df.head()\n"
   ]
  },
  {
   "cell_type": "code",
   "execution_count": 11,
   "id": "8bc364ea-acd3-4786-bcc4-b0856236e3e9",
   "metadata": {},
   "outputs": [],
   "source": [
    "# Define features (X) and target (y)\n",
    "X = df.drop('median_house_value', axis=1)\n",
    "y = df['median_house_value']"
   ]
  },
  {
   "cell_type": "code",
   "execution_count": 13,
   "id": "87d27c06-86d3-4b58-b20a-849e250e06a8",
   "metadata": {},
   "outputs": [
    {
     "data": {
      "text/plain": [
       "((16512, 12), (4128, 12), (16512,), (4128,))"
      ]
     },
     "execution_count": 13,
     "metadata": {},
     "output_type": "execute_result"
    }
   ],
   "source": [
    "# Step 4: Split into Training and Testing Sets\n",
    "# Split into training and testing sets (80% train, 20% test)\n",
    "X_train, X_test, y_train, y_test = train_test_split(X, y, test_size=0.2, random_state=42)\n",
    " \n",
    "# Verify the split\n",
    "X_train.shape, X_test.shape, y_train.shape, y_test.shape"
   ]
  },
  {
   "cell_type": "code",
   "execution_count": 15,
   "id": "c9aa45a0-3cc3-4589-aae6-1dba35dc339b",
   "metadata": {},
   "outputs": [
    {
     "data": {
      "text/html": [
       "<style>#sk-container-id-1 {color: black;}#sk-container-id-1 pre{padding: 0;}#sk-container-id-1 div.sk-toggleable {background-color: white;}#sk-container-id-1 label.sk-toggleable__label {cursor: pointer;display: block;width: 100%;margin-bottom: 0;padding: 0.3em;box-sizing: border-box;text-align: center;}#sk-container-id-1 label.sk-toggleable__label-arrow:before {content: \"▸\";float: left;margin-right: 0.25em;color: #696969;}#sk-container-id-1 label.sk-toggleable__label-arrow:hover:before {color: black;}#sk-container-id-1 div.sk-estimator:hover label.sk-toggleable__label-arrow:before {color: black;}#sk-container-id-1 div.sk-toggleable__content {max-height: 0;max-width: 0;overflow: hidden;text-align: left;background-color: #f0f8ff;}#sk-container-id-1 div.sk-toggleable__content pre {margin: 0.2em;color: black;border-radius: 0.25em;background-color: #f0f8ff;}#sk-container-id-1 input.sk-toggleable__control:checked~div.sk-toggleable__content {max-height: 200px;max-width: 100%;overflow: auto;}#sk-container-id-1 input.sk-toggleable__control:checked~label.sk-toggleable__label-arrow:before {content: \"▾\";}#sk-container-id-1 div.sk-estimator input.sk-toggleable__control:checked~label.sk-toggleable__label {background-color: #d4ebff;}#sk-container-id-1 div.sk-label input.sk-toggleable__control:checked~label.sk-toggleable__label {background-color: #d4ebff;}#sk-container-id-1 input.sk-hidden--visually {border: 0;clip: rect(1px 1px 1px 1px);clip: rect(1px, 1px, 1px, 1px);height: 1px;margin: -1px;overflow: hidden;padding: 0;position: absolute;width: 1px;}#sk-container-id-1 div.sk-estimator {font-family: monospace;background-color: #f0f8ff;border: 1px dotted black;border-radius: 0.25em;box-sizing: border-box;margin-bottom: 0.5em;}#sk-container-id-1 div.sk-estimator:hover {background-color: #d4ebff;}#sk-container-id-1 div.sk-parallel-item::after {content: \"\";width: 100%;border-bottom: 1px solid gray;flex-grow: 1;}#sk-container-id-1 div.sk-label:hover label.sk-toggleable__label {background-color: #d4ebff;}#sk-container-id-1 div.sk-serial::before {content: \"\";position: absolute;border-left: 1px solid gray;box-sizing: border-box;top: 0;bottom: 0;left: 50%;z-index: 0;}#sk-container-id-1 div.sk-serial {display: flex;flex-direction: column;align-items: center;background-color: white;padding-right: 0.2em;padding-left: 0.2em;position: relative;}#sk-container-id-1 div.sk-item {position: relative;z-index: 1;}#sk-container-id-1 div.sk-parallel {display: flex;align-items: stretch;justify-content: center;background-color: white;position: relative;}#sk-container-id-1 div.sk-item::before, #sk-container-id-1 div.sk-parallel-item::before {content: \"\";position: absolute;border-left: 1px solid gray;box-sizing: border-box;top: 0;bottom: 0;left: 50%;z-index: -1;}#sk-container-id-1 div.sk-parallel-item {display: flex;flex-direction: column;z-index: 1;position: relative;background-color: white;}#sk-container-id-1 div.sk-parallel-item:first-child::after {align-self: flex-end;width: 50%;}#sk-container-id-1 div.sk-parallel-item:last-child::after {align-self: flex-start;width: 50%;}#sk-container-id-1 div.sk-parallel-item:only-child::after {width: 0;}#sk-container-id-1 div.sk-dashed-wrapped {border: 1px dashed gray;margin: 0 0.4em 0.5em 0.4em;box-sizing: border-box;padding-bottom: 0.4em;background-color: white;}#sk-container-id-1 div.sk-label label {font-family: monospace;font-weight: bold;display: inline-block;line-height: 1.2em;}#sk-container-id-1 div.sk-label-container {text-align: center;}#sk-container-id-1 div.sk-container {/* jupyter's `normalize.less` sets `[hidden] { display: none; }` but bootstrap.min.css set `[hidden] { display: none !important; }` so we also need the `!important` here to be able to override the default hidden behavior on the sphinx rendered scikit-learn.org. See: https://github.com/scikit-learn/scikit-learn/issues/21755 */display: inline-block !important;position: relative;}#sk-container-id-1 div.sk-text-repr-fallback {display: none;}</style><div id=\"sk-container-id-1\" class=\"sk-top-container\"><div class=\"sk-text-repr-fallback\"><pre>LinearRegression()</pre><b>In a Jupyter environment, please rerun this cell to show the HTML representation or trust the notebook. <br />On GitHub, the HTML representation is unable to render, please try loading this page with nbviewer.org.</b></div><div class=\"sk-container\" hidden><div class=\"sk-item\"><div class=\"sk-estimator sk-toggleable\"><input class=\"sk-toggleable__control sk-hidden--visually\" id=\"sk-estimator-id-1\" type=\"checkbox\" checked><label for=\"sk-estimator-id-1\" class=\"sk-toggleable__label sk-toggleable__label-arrow\">LinearRegression</label><div class=\"sk-toggleable__content\"><pre>LinearRegression()</pre></div></div></div></div></div>"
      ],
      "text/plain": [
       "LinearRegression()"
      ]
     },
     "execution_count": 15,
     "metadata": {},
     "output_type": "execute_result"
    }
   ],
   "source": [
    "# Step 5: Choose and Train a Linear Regression Model\n",
    "linear_model = LinearRegression()\n",
    "linear_model.fit(X_train, y_train)"
   ]
  },
  {
   "cell_type": "markdown",
   "id": "1dd5ea2b-b433-45aa-9e08-b12649dbad54",
   "metadata": {},
   "source": [
    "In a Jupyter environment, please rerun this cell to show the HTML representation or trust the notebook.\n",
    "On GitHub, the HTML representation is unable to render, please try loading this page with nbviewer.org."
   ]
  },
  {
   "cell_type": "code",
   "execution_count": 19,
   "id": "f0d33943-afd2-4afa-924c-e3088765d1cd",
   "metadata": {},
   "outputs": [],
   "source": [
    "# Predict on test set using Linear Regression\n",
    "y_pred_linear = linear_model.predict(X_test)"
   ]
  },
  {
   "cell_type": "code",
   "execution_count": 21,
   "id": "1e8a3699-089f-4bcf-a07a-54a0587aea4c",
   "metadata": {},
   "outputs": [
    {
     "data": {
      "text/plain": [
       "array([ 54055.44889898, 124225.33893718, 255489.37949165, ...,\n",
       "       439180.98341181, 120797.55240621, 183386.04993584])"
      ]
     },
     "execution_count": 21,
     "metadata": {},
     "output_type": "execute_result"
    }
   ],
   "source": [
    "y_pred_linear"
   ]
  },
  {
   "cell_type": "code",
   "execution_count": null,
   "id": "495a0fad-b9df-4878-96ca-80e425ec79fe",
   "metadata": {},
   "outputs": [],
   "source": []
  }
 ],
 "metadata": {
  "kernelspec": {
   "display_name": "anaconda-2024.02-py310",
   "language": "python",
   "name": "conda-env-anaconda-2024.02-py310-py"
  },
  "language_info": {
   "codemirror_mode": {
    "name": "ipython",
    "version": 3
   },
   "file_extension": ".py",
   "mimetype": "text/x-python",
   "name": "python",
   "nbconvert_exporter": "python",
   "pygments_lexer": "ipython3",
   "version": "3.10.14"
  }
 },
 "nbformat": 4,
 "nbformat_minor": 5
}
